{
 "cells": [
  {
   "cell_type": "code",
   "execution_count": 1,
   "metadata": {},
   "outputs": [],
   "source": [
    "from datetime import datetime, timedelta\n",
    "from elasticsearch import Elasticsearch\n",
    "from elasticsearch_dsl import Search\n",
    "from calendar import monthrange, month_name\n",
    "from collections import defaultdict, OrderedDict\n",
    "from pprint import pprint\n",
    "import json\n",
    "\n",
    "import subprocess\n",
    "import pandas as pd"
   ]
  },
  {
   "cell_type": "code",
   "execution_count": null,
   "metadata": {},
   "outputs": [],
   "source": [
    "# Elasticsearch should be running at this URL, otherwise the next command will give and error\n",
    "ES_URL = \"http://localhost:9200\"\n",
    "\n",
    "# Make an ElasticSearch instance\n",
    "es = ES.Elasticsearch([ES_URl])\n",
    "\n",
    "# Name of organization.\n",
    "org_name = \"chaoss\"\n",
    "\n",
    "# Url from where github api will retrieve repositories data.\n",
    "repo_url =  'https://api.github.com/users/'+org_name+'/repos'\n",
    "\n",
    "#verification token to avoid problems regarding unauthenticated access to the GitHub API\n",
    "token = ''"
   ]
  }
 ],
 "metadata": {
  "kernelspec": {
   "display_name": "grimoirelab",
   "language": "python",
   "name": "grimoirelab"
  },
  "language_info": {
   "codemirror_mode": {
    "name": "ipython",
    "version": 3
   },
   "file_extension": ".py",
   "mimetype": "text/x-python",
   "name": "python",
   "nbconvert_exporter": "python",
   "pygments_lexer": "ipython3",
   "version": "3.6.3"
  }
 },
 "nbformat": 4,
 "nbformat_minor": 2
}
