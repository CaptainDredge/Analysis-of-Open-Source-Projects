{
 "cells": [
  {
   "cell_type": "code",
   "execution_count": 1,
   "metadata": {},
   "outputs": [],
   "source": [
    "from datetime import datetime, timedelta\n",
    "from elasticsearch import Elasticsearch\n",
    "from calendar import monthrange, month_name\n",
    "from collections import defaultdict, OrderedDict\n",
    "from dateutil.relativedelta import relativedelta\n",
    "from pprint import pprint\n",
    "\n",
    "import subprocess\n",
    "import pandas as pd\n",
    "import matplotlib.pyplot as plt\n",
    "import seaborn as sns"
   ]
  },
  {
   "cell_type": "code",
   "execution_count": 11,
   "metadata": {},
   "outputs": [],
   "source": [
    "# Elasticsearch should be running at this URL, otherwise the next command will give and error\n",
    "ES_URL = \"http://localhost:9200\" \n",
    "\n",
    "es = Elasticsearch(ES_URL)\n",
    "\n",
    "# URL of the repository to be analysed\n",
    "org_name = \"Cloud-CV\"\n",
    "repo_name = \"EvalAI\"\n",
    "\n",
    "# Names of the indices by which the repository will be stored\n",
    "enriched_index_name = \"cloud_git\"\n",
    "raw_index_name = \"cloud_git_raw\"\n",
    "\n",
    "# This token will allow us to call GitHub's api without being rate limited \n",
    "github_access_token = \"af8040bba07cdbae8a6ac420b12a1afae1625c06\" # Enter your own token"
   ]
  },
  {
   "cell_type": "code",
   "execution_count": 12,
   "metadata": {},
   "outputs": [
    {
     "name": "stdout",
     "output_type": "stream",
     "text": [
      "Data retrieved and Index enriched\n"
     ]
    }
   ],
   "source": [
    "subprocess.run(['p2o.py', '--enrich', '--index', raw_index_name,\n",
    "      '--index-enrich', enriched_index_name, '-e', ES_URL,\n",
    "      '--no_inc', '--debug', 'git',org_name , repo_name,'-t',\n",
    "                github_access_token, '--sleep-for-rate'])\n",
    "print(\"Data retrieved and Index enriched\")"
   ]
  },
  {
   "cell_type": "code",
   "execution_count": 10,
   "metadata": {},
   "outputs": [],
   "source": [
    "def retrieve_records(index=None):\n",
    "    \"Queries the elasticsearch instance and returns all the documents in the index.\"\n",
    "    \n",
    "    search_result = es.search(index=index, body={\"query\":{\"match_all\":{}}})\n",
    "    total = search_result[\"hits\"][\"total\"]\n",
    "    query = {\n",
    "                \"size\":total, \n",
    "                \"query\":\n",
    "                        {\n",
    "                            \"match_all\":{}\n",
    "                        }\n",
    "            }\n",
    "    query_result = es.search(index=index, body=query)\n",
    "    results = [query_result[\"hits\"][\"hits\"][i][\"_source\"] for i in range(query_result[\"hits\"][\"total\"])]\n",
    "    return results"
   ]
  },
  {
   "cell_type": "code",
   "execution_count": null,
   "metadata": {},
   "outputs": [],
   "source": []
  }
 ],
 "metadata": {
  "kernelspec": {
   "display_name": "grimoirelab",
   "language": "python",
   "name": "grimoirelab"
  },
  "language_info": {
   "codemirror_mode": {
    "name": "ipython",
    "version": 3
   },
   "file_extension": ".py",
   "mimetype": "text/x-python",
   "name": "python",
   "nbconvert_exporter": "python",
   "pygments_lexer": "ipython3",
   "version": "3.6.3"
  }
 },
 "nbformat": 4,
 "nbformat_minor": 2
}
