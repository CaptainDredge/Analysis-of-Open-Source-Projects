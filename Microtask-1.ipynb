{
 "cells": [
  {
   "cell_type": "code",
   "execution_count": 3,
   "metadata": {},
   "outputs": [],
   "source": [
    "from datetime import datetime, timedelta\n",
    "from elasticsearch import Elasticsearch\n",
    "from dateutil.relativedelta import relativedelta\n",
    "from calendar import monthrange, month_name\n",
    "from collections import defaultdict, OrderedDict\n",
    "from pprint import pprint\n",
    "\n",
    "import subprocess\n",
    "import pandas as pd\n",
    "import six"
   ]
  },
  {
   "cell_type": "code",
   "execution_count": 4,
   "metadata": {},
   "outputs": [],
   "source": [
    "# Elasticsearch should be running at this URL, otherwise the next command will give and error\n",
    "ES_URL = \"http://localhost:9200\" \n",
    "\n",
    "es = Elasticsearch(ES_URL)\n",
    "\n",
    "# URL of the repository to be analysed\n",
    "repository_url = \"https://github.com/Cloud-CV/EvalAI.git\"\n",
    "\n",
    "# Names of the indices by which the repository will be stored\n",
    "enriched_index_name = \"cloud_git\"\n",
    "raw_index_name = \"cloud_git_raw\""
   ]
  },
  {
   "cell_type": "code",
   "execution_count": 14,
   "metadata": {},
   "outputs": [
    {
     "data": {
      "text/plain": [
       "CompletedProcess(args=['p2o.py', '--enrich', '--index', 'cloud_git_raw', '--index-enrich', 'cloud_git', '-e', 'http://localhost:9200', '--no_inc', '--debug', 'git', 'https://github.com/Cloud-CV/EvalAI.git'], returncode=0)"
      ]
     },
     "execution_count": 14,
     "metadata": {},
     "output_type": "execute_result"
    }
   ],
   "source": [
    "subprocess.run(['p2o.py', '--enrich', '--index', raw_index_name,\n",
    "      '--index-enrich', enriched_index_name, '-e', ES_URL,\n",
    "      '--no_inc', '--debug', 'git', repository_url])"
   ]
  },
  {
   "cell_type": "code",
   "execution_count": 5,
   "metadata": {},
   "outputs": [
    {
     "data": {
      "text/plain": [
       "910"
      ]
     },
     "execution_count": 5,
     "metadata": {},
     "output_type": "execute_result"
    }
   ],
   "source": [
    "query_res = es.search(index=enriched_index_name, body={\"query\":{\"match_all\":{}}})\n",
    "total = query_res[\"hits\"][\"total\"]\n",
    "total"
   ]
  },
  {
   "cell_type": "code",
   "execution_count": 7,
   "metadata": {},
   "outputs": [],
   "source": [
    "def commit_records(index=None):\n",
    "    \"Queries the elasticsearch instance and returns all the documents in the index.\"\n",
    "    \n",
    "    search_result = es.search(index=index, body={\"query\":{\"match_all\":{}}})\n",
    "    total = search_result[\"hits\"][\"total\"]\n",
    "    query = {\n",
    "                \"size\":total, \n",
    "                \"query\":\n",
    "                        {\n",
    "                            \"match_all\":{}\n",
    "                        }\n",
    "            }\n",
    "    query_result = es.search(index=index, body=query)\n",
    "    results = [query_result[\"hits\"][\"hits\"][i][\"_source\"] for i in range(query_result[\"hits\"][\"total\"])]\n",
    "    return results"
   ]
  },
  {
   "cell_type": "code",
   "execution_count": 8,
   "metadata": {},
   "outputs": [],
   "source": [
    "results = commit_records(enriched_index_name)"
   ]
  },
  {
   "cell_type": "code",
   "execution_count": 9,
   "metadata": {},
   "outputs": [
    {
     "data": {
      "text/plain": [
       "{'Author': 'Deshraj <deshrajdry@gmail.com>',\n",
       " 'Committer': 'Deshraj <deshrajdry@gmail.com>',\n",
       " 'author_date': '2016-10-20T23:58:12',\n",
       " 'author_domain': 'gmail.com',\n",
       " 'author_name': 'Deshraj',\n",
       " 'commit_date': '2016-10-20T23:58:12',\n",
       " 'committer_domain': 'gmail.com',\n",
       " 'committer_name': 'Deshraj',\n",
       " 'files': 2,\n",
       " 'github_repo': 'Cloud-CV/EvalAI',\n",
       " 'grimoire_creation_date': '2016-10-20T23:58:12-04:00',\n",
       " 'hash': '114d7336902e186238ae34e3642e36f592b53c35',\n",
       " 'hash_short': '114d73',\n",
       " 'is_git_commit': 1,\n",
       " 'lines_added': 109,\n",
       " 'lines_changed': 110,\n",
       " 'lines_removed': 1,\n",
       " 'message': 'README and contribution guidelines updated',\n",
       " 'message_analyzed': 'README and contribution guidelines updated',\n",
       " 'metadata__enriched_on': '2018-03-26T06:45:15.406660',\n",
       " 'metadata__gelk_backend_name': 'GitEnrich',\n",
       " 'metadata__gelk_version': '0.30.23',\n",
       " 'metadata__timestamp': '2018-03-25T12:02:49.608924+00:00',\n",
       " 'metadata__updated_on': '2016-10-21T03:58:12+00:00',\n",
       " 'offset': None,\n",
       " 'origin': 'https://github.com/Cloud-CV/EvalAI.git',\n",
       " 'repo_name': 'https://github.com/Cloud-CV/EvalAI.git',\n",
       " 'tag': 'https://github.com/Cloud-CV/EvalAI.git',\n",
       " 'title': 'README and contribution guidelines updated',\n",
       " 'tz': -4,\n",
       " 'url_id': 'Cloud-CV/EvalAI/commit/114d7336902e186238ae34e3642e36f592b53c35',\n",
       " 'utc_author': '2016-10-21T03:58:12',\n",
       " 'utc_commit': '2016-10-21T03:58:12',\n",
       " 'uuid': '6fda5d606c80de7d2f05bbc06ce0d3868be4de00'}"
      ]
     },
     "execution_count": 9,
     "metadata": {},
     "output_type": "execute_result"
    }
   ],
   "source": [
    "results[0]"
   ]
  },
  {
   "cell_type": "code",
   "execution_count": 10,
   "metadata": {},
   "outputs": [],
   "source": [
    "import elasticsearch_dsl"
   ]
  },
  {
   "cell_type": "code",
   "execution_count": 11,
   "metadata": {},
   "outputs": [],
   "source": [
    "# Build a DSL Search object on the 'commits' index, 'summary' document type\n",
    "request = elasticsearch_dsl.Search(using=es, index='cloud_git')"
   ]
  },
  {
   "cell_type": "code",
   "execution_count": 12,
   "metadata": {},
   "outputs": [],
   "source": [
    "response = request.scan()"
   ]
  },
  {
   "cell_type": "code",
   "execution_count": 13,
   "metadata": {},
   "outputs": [
    {
     "name": "stdout",
     "output_type": "stream",
     "text": [
      "Count of total number of commits in index:  910\n"
     ]
    }
   ],
   "source": [
    "total = request.count()\n",
    "print(\"Count of total number of commits in index: \", total)"
   ]
  },
  {
   "cell_type": "code",
   "execution_count": 15,
   "metadata": {},
   "outputs": [],
   "source": [
    "def parse_date(date, custom_format=None):\n",
    "    \"\"\"Returns a datetime.datetime object from a string. \n",
    "    custom_format for the date can be given as input\"\"\"\n",
    "    \n",
    "    if custom_format:\n",
    "        return datetime.strptime(date, custom_format)\n",
    "    \n",
    "    return datetime.strptime(date, \"%Y-%m-%dT%H:%M:%S\")"
   ]
  },
  {
   "cell_type": "code",
   "execution_count": 16,
   "metadata": {},
   "outputs": [],
   "source": [
    "def get_end_date_of_month(date):\n",
    "    \"Given a date, return the end date of the month\"\n",
    "    \n",
    "    return date + relativedelta(days = +(monthrange(date.year, date.month)[1] - date.day))"
   ]
  },
  {
   "cell_type": "code",
   "execution_count": 17,
   "metadata": {},
   "outputs": [],
   "source": [
    "def get_start_date_of_month(date):\n",
    "    \"Given a date, return the start date of the month\"\n",
    "    \n",
    "    return date - relativedelta(days = +date.day-1)"
   ]
  },
  {
   "cell_type": "code",
   "execution_count": 18,
   "metadata": {},
   "outputs": [],
   "source": [
    "def get_bucket_name(date):\n",
    "    \"Given a date return the a string in the form of Month-YYYY\"\n",
    "    \n",
    "    return month_name[date.month] + \"-\" + str(date.year)"
   ]
  },
  {
   "cell_type": "code",
   "execution_count": 19,
   "metadata": {},
   "outputs": [],
   "source": [
    "def get_extreme_commits_dates(commit_list):\n",
    "    \"Given a list of commits, return the dates of the first and the last commits\"\n",
    "    \n",
    "    fc_date = min(parse_date(item['commit_date']) for item in commit_list)\n",
    "    lc_date = max(parse_date(item['commit_date']) for item in commit_list)\n",
    "    return fc_date, lc_date"
   ]
  },
  {
   "cell_type": "code",
   "execution_count": 20,
   "metadata": {},
   "outputs": [],
   "source": [
    "def make_buckets(first_date, last_date):\n",
    "    \"\"\"Given the project start date and the last commit date, return \n",
    "    containers for months in between those dates. Each container is a month \n",
    "    containing details about all the commits and committers for that month.\"\"\"\n",
    "    \n",
    "    buckets = OrderedDict()\n",
    "    \n",
    "    month_start_date = get_start_date_of_month(first_date)\n",
    "    month_end_date = get_end_date_of_month(first_date)\n",
    "    bucket_name = get_bucket_name(first_date)\n",
    "    \n",
    "    while month_end_date <= last_date:\n",
    "        commit = {}\n",
    "        commit['new_committers'] = defaultdict(int)\n",
    "        commit['old_committers'] = defaultdict(int)\n",
    "        commit['commits'] = []\n",
    "        buckets[bucket_name] = commit\n",
    "        \n",
    "        month_start_date = month_end_date + relativedelta(days=+1)\n",
    "        month_end_date = get_end_date_of_month(month_start_date)\n",
    "        bucket_name = get_bucket_name(month_start_date)\n",
    "    \n",
    "    commit = {}\n",
    "    commit['new_committers'] = defaultdict(int)\n",
    "    commit['old_committers'] = defaultdict(int)\n",
    "    commit['commits'] = []\n",
    "    buckets[bucket_name] = commit\n",
    "    \n",
    "    return buckets"
   ]
  },
  {
   "cell_type": "code",
   "execution_count": 21,
   "metadata": {},
   "outputs": [],
   "source": [
    "def analyse_repository(commit_list):\n",
    "    \n",
    "    first_date, last_date = get_extreme_commits_dates(commit_list)\n",
    "    \n",
    "    months = make_buckets(first_date, last_date)\n",
    "    \n",
    "    for commit in commit_list:\n",
    "        month = get_bucket_name(parse_date(commit['commit_date']))\n",
    "        months[month][\"commits\"].append(commit)\n",
    "        \n",
    "    all_committers = []\n",
    "    \n",
    "    for name, month in months.items():\n",
    "        for commit in month['commits']:\n",
    "            committer = commit['author_name']\n",
    "            if committer in all_committers:\n",
    "                month['old_committers'][committer] += 1\n",
    "            else:\n",
    "                month['new_committers'][committer] += 1\n",
    "        all_committers = list(set(all_committers + list(month['old_committers'].keys()) + \n",
    "                                  list(month['new_committers'].keys())))\n",
    "        del month['commits']\n",
    "                \n",
    "    return months"
   ]
  },
  {
   "cell_type": "code",
   "execution_count": 22,
   "metadata": {},
   "outputs": [],
   "source": [
    "Output = analyse_repository(results)"
   ]
  },
  {
   "cell_type": "code",
   "execution_count": 23,
   "metadata": {},
   "outputs": [
    {
     "name": "stdout",
     "output_type": "stream",
     "text": [
      "Month                    No. of new committers\n",
      "October-2016             2\n",
      "November-2016            9\n",
      "December-2016            2\n",
      "January-2017             6\n",
      "February-2017            3\n",
      "March-2017               8\n",
      "April-2017               2\n",
      "May-2017                 2\n",
      "August-2017              3\n",
      "September-2017           5\n",
      "October-2017             8\n",
      "November-2017            5\n",
      "December-2017            7\n",
      "January-2018             7\n",
      "February-2018            1\n",
      "March-2018               3\n"
     ]
    }
   ],
   "source": [
    "format_template = '{:<25}{}'\n",
    "\n",
    "print(format_template.format('Month', 'No. of new committers'))\n",
    "\n",
    "for month_name, month in Output.items():\n",
    "    if len(month[\"new_committers\"]) != 0:\n",
    "        print(format_template.format(month_name, len(month[\"new_committers\"])))"
   ]
  },
  {
   "cell_type": "code",
   "execution_count": 24,
   "metadata": {},
   "outputs": [],
   "source": [
    "def data_from_dict(commit_dict):\n",
    "    data = []\n",
    "    for month_name, month in commit_dict.items():\n",
    "        item_list = []\n",
    "        for key, val in month['new_committers'].items():\n",
    "            item = {}\n",
    "            item['month'] = month_name\n",
    "            item[\"Author of commit\"] = key\n",
    "            item['Number of commits'] = val\n",
    "            item_list.append(item)\n",
    "        data = data + item_list\n",
    "    \n",
    "    return pd.DataFrame(data)"
   ]
  },
  {
   "cell_type": "code",
   "execution_count": 25,
   "metadata": {},
   "outputs": [],
   "source": [
    "final_data = data_from_dict(Output)"
   ]
  },
  {
   "cell_type": "code",
   "execution_count": 26,
   "metadata": {},
   "outputs": [
    {
     "data": {
      "text/html": [
       "<div>\n",
       "<table border=\"1\" class=\"dataframe\">\n",
       "  <thead>\n",
       "    <tr style=\"text-align: right;\">\n",
       "      <th></th>\n",
       "      <th>Author of commit</th>\n",
       "      <th>Number of commits</th>\n",
       "      <th>month</th>\n",
       "    </tr>\n",
       "  </thead>\n",
       "  <tbody>\n",
       "    <tr>\n",
       "      <th>0</th>\n",
       "      <td>Deshraj</td>\n",
       "      <td>11</td>\n",
       "      <td>October-2016</td>\n",
       "    </tr>\n",
       "    <tr>\n",
       "      <th>1</th>\n",
       "      <td>Deshraj Yadav</td>\n",
       "      <td>3</td>\n",
       "      <td>October-2016</td>\n",
       "    </tr>\n",
       "    <tr>\n",
       "      <th>2</th>\n",
       "      <td>Harsh Agrawal</td>\n",
       "      <td>12</td>\n",
       "      <td>November-2016</td>\n",
       "    </tr>\n",
       "    <tr>\n",
       "      <th>3</th>\n",
       "      <td>Taranjeet Singh</td>\n",
       "      <td>46</td>\n",
       "      <td>November-2016</td>\n",
       "    </tr>\n",
       "    <tr>\n",
       "      <th>4</th>\n",
       "      <td>Akash Jain</td>\n",
       "      <td>13</td>\n",
       "      <td>November-2016</td>\n",
       "    </tr>\n",
       "    <tr>\n",
       "      <th>5</th>\n",
       "      <td>rishabhjain</td>\n",
       "      <td>4</td>\n",
       "      <td>November-2016</td>\n",
       "    </tr>\n",
       "    <tr>\n",
       "      <th>6</th>\n",
       "      <td>arun jain</td>\n",
       "      <td>3</td>\n",
       "      <td>November-2016</td>\n",
       "    </tr>\n",
       "    <tr>\n",
       "      <th>7</th>\n",
       "      <td>Gautham Santhosh</td>\n",
       "      <td>1</td>\n",
       "      <td>November-2016</td>\n",
       "    </tr>\n",
       "    <tr>\n",
       "      <th>8</th>\n",
       "      <td>The Gitter Badger</td>\n",
       "      <td>1</td>\n",
       "      <td>November-2016</td>\n",
       "    </tr>\n",
       "    <tr>\n",
       "      <th>9</th>\n",
       "      <td>Anwesh Nayak</td>\n",
       "      <td>3</td>\n",
       "      <td>November-2016</td>\n",
       "    </tr>\n",
       "    <tr>\n",
       "      <th>10</th>\n",
       "      <td>Neeraj Yadav</td>\n",
       "      <td>1</td>\n",
       "      <td>November-2016</td>\n",
       "    </tr>\n",
       "    <tr>\n",
       "      <th>11</th>\n",
       "      <td>Sourav Singh</td>\n",
       "      <td>1</td>\n",
       "      <td>December-2016</td>\n",
       "    </tr>\n",
       "    <tr>\n",
       "      <th>12</th>\n",
       "      <td>Aditya Agarwal</td>\n",
       "      <td>2</td>\n",
       "      <td>December-2016</td>\n",
       "    </tr>\n",
       "    <tr>\n",
       "      <th>13</th>\n",
       "      <td>Ram Ramrakhya</td>\n",
       "      <td>10</td>\n",
       "      <td>January-2017</td>\n",
       "    </tr>\n",
       "    <tr>\n",
       "      <th>14</th>\n",
       "      <td>Shiv Baran Singh</td>\n",
       "      <td>8</td>\n",
       "      <td>January-2017</td>\n",
       "    </tr>\n",
       "    <tr>\n",
       "      <th>15</th>\n",
       "      <td>parismita</td>\n",
       "      <td>9</td>\n",
       "      <td>January-2017</td>\n",
       "    </tr>\n",
       "    <tr>\n",
       "      <th>16</th>\n",
       "      <td>Rishav Sapahia</td>\n",
       "      <td>1</td>\n",
       "      <td>January-2017</td>\n",
       "    </tr>\n",
       "    <tr>\n",
       "      <th>17</th>\n",
       "      <td>jayantsa</td>\n",
       "      <td>4</td>\n",
       "      <td>January-2017</td>\n",
       "    </tr>\n",
       "    <tr>\n",
       "      <th>18</th>\n",
       "      <td>Viraj Prabhu</td>\n",
       "      <td>1</td>\n",
       "      <td>January-2017</td>\n",
       "    </tr>\n",
       "    <tr>\n",
       "      <th>19</th>\n",
       "      <td>Ankit Yadav</td>\n",
       "      <td>4</td>\n",
       "      <td>February-2017</td>\n",
       "    </tr>\n",
       "    <tr>\n",
       "      <th>20</th>\n",
       "      <td>Arun Jain</td>\n",
       "      <td>5</td>\n",
       "      <td>February-2017</td>\n",
       "    </tr>\n",
       "    <tr>\n",
       "      <th>21</th>\n",
       "      <td>Ankur Shukla</td>\n",
       "      <td>1</td>\n",
       "      <td>February-2017</td>\n",
       "    </tr>\n",
       "    <tr>\n",
       "      <th>22</th>\n",
       "      <td>Shivam</td>\n",
       "      <td>2</td>\n",
       "      <td>March-2017</td>\n",
       "    </tr>\n",
       "    <tr>\n",
       "      <th>23</th>\n",
       "      <td>Anshul Basia</td>\n",
       "      <td>2</td>\n",
       "      <td>March-2017</td>\n",
       "    </tr>\n",
       "    <tr>\n",
       "      <th>24</th>\n",
       "      <td>akashjain993</td>\n",
       "      <td>3</td>\n",
       "      <td>March-2017</td>\n",
       "    </tr>\n",
       "    <tr>\n",
       "      <th>25</th>\n",
       "      <td>Mayank Agrawal</td>\n",
       "      <td>2</td>\n",
       "      <td>March-2017</td>\n",
       "    </tr>\n",
       "    <tr>\n",
       "      <th>26</th>\n",
       "      <td>AliRaza3997</td>\n",
       "      <td>1</td>\n",
       "      <td>March-2017</td>\n",
       "    </tr>\n",
       "    <tr>\n",
       "      <th>27</th>\n",
       "      <td>Barnabas Makonda</td>\n",
       "      <td>1</td>\n",
       "      <td>March-2017</td>\n",
       "    </tr>\n",
       "    <tr>\n",
       "      <th>28</th>\n",
       "      <td>Varun Agrawal</td>\n",
       "      <td>1</td>\n",
       "      <td>March-2017</td>\n",
       "    </tr>\n",
       "    <tr>\n",
       "      <th>29</th>\n",
       "      <td>Pawan Sasanka Ammanamanchi</td>\n",
       "      <td>1</td>\n",
       "      <td>March-2017</td>\n",
       "    </tr>\n",
       "    <tr>\n",
       "      <th>...</th>\n",
       "      <td>...</td>\n",
       "      <td>...</td>\n",
       "      <td>...</td>\n",
       "    </tr>\n",
       "    <tr>\n",
       "      <th>43</th>\n",
       "      <td>geekayush</td>\n",
       "      <td>2</td>\n",
       "      <td>October-2017</td>\n",
       "    </tr>\n",
       "    <tr>\n",
       "      <th>44</th>\n",
       "      <td>RishabhJain2018</td>\n",
       "      <td>14</td>\n",
       "      <td>October-2017</td>\n",
       "    </tr>\n",
       "    <tr>\n",
       "      <th>45</th>\n",
       "      <td>dhruvbatra</td>\n",
       "      <td>2</td>\n",
       "      <td>October-2017</td>\n",
       "    </tr>\n",
       "    <tr>\n",
       "      <th>46</th>\n",
       "      <td>Tyler Lugger</td>\n",
       "      <td>1</td>\n",
       "      <td>October-2017</td>\n",
       "    </tr>\n",
       "    <tr>\n",
       "      <th>47</th>\n",
       "      <td>jakecarr</td>\n",
       "      <td>1</td>\n",
       "      <td>October-2017</td>\n",
       "    </tr>\n",
       "    <tr>\n",
       "      <th>48</th>\n",
       "      <td>Poh Zi How</td>\n",
       "      <td>1</td>\n",
       "      <td>October-2017</td>\n",
       "    </tr>\n",
       "    <tr>\n",
       "      <th>49</th>\n",
       "      <td>Chris Wiggins</td>\n",
       "      <td>1</td>\n",
       "      <td>October-2017</td>\n",
       "    </tr>\n",
       "    <tr>\n",
       "      <th>50</th>\n",
       "      <td>Ayush Srivastava</td>\n",
       "      <td>1</td>\n",
       "      <td>November-2017</td>\n",
       "    </tr>\n",
       "    <tr>\n",
       "      <th>51</th>\n",
       "      <td>Aditya Singh</td>\n",
       "      <td>1</td>\n",
       "      <td>November-2017</td>\n",
       "    </tr>\n",
       "    <tr>\n",
       "      <th>52</th>\n",
       "      <td>Anuyog Rohilla</td>\n",
       "      <td>1</td>\n",
       "      <td>November-2017</td>\n",
       "    </tr>\n",
       "    <tr>\n",
       "      <th>53</th>\n",
       "      <td>Will Eggleston</td>\n",
       "      <td>1</td>\n",
       "      <td>November-2017</td>\n",
       "    </tr>\n",
       "    <tr>\n",
       "      <th>54</th>\n",
       "      <td>Prajwal Gatti</td>\n",
       "      <td>1</td>\n",
       "      <td>November-2017</td>\n",
       "    </tr>\n",
       "    <tr>\n",
       "      <th>55</th>\n",
       "      <td>Hizkia Felix</td>\n",
       "      <td>1</td>\n",
       "      <td>December-2017</td>\n",
       "    </tr>\n",
       "    <tr>\n",
       "      <th>56</th>\n",
       "      <td>iDrinkMocha</td>\n",
       "      <td>1</td>\n",
       "      <td>December-2017</td>\n",
       "    </tr>\n",
       "    <tr>\n",
       "      <th>57</th>\n",
       "      <td>Gautam Jajoo</td>\n",
       "      <td>1</td>\n",
       "      <td>December-2017</td>\n",
       "    </tr>\n",
       "    <tr>\n",
       "      <th>58</th>\n",
       "      <td>Avikam Mangla</td>\n",
       "      <td>1</td>\n",
       "      <td>December-2017</td>\n",
       "    </tr>\n",
       "    <tr>\n",
       "      <th>59</th>\n",
       "      <td>trexdinosaur</td>\n",
       "      <td>3</td>\n",
       "      <td>December-2017</td>\n",
       "    </tr>\n",
       "    <tr>\n",
       "      <th>60</th>\n",
       "      <td>Plebtato</td>\n",
       "      <td>1</td>\n",
       "      <td>December-2017</td>\n",
       "    </tr>\n",
       "    <tr>\n",
       "      <th>61</th>\n",
       "      <td>weakit</td>\n",
       "      <td>1</td>\n",
       "      <td>December-2017</td>\n",
       "    </tr>\n",
       "    <tr>\n",
       "      <th>62</th>\n",
       "      <td>Vivek Raj</td>\n",
       "      <td>1</td>\n",
       "      <td>January-2018</td>\n",
       "    </tr>\n",
       "    <tr>\n",
       "      <th>63</th>\n",
       "      <td>praisejabraham</td>\n",
       "      <td>1</td>\n",
       "      <td>January-2018</td>\n",
       "    </tr>\n",
       "    <tr>\n",
       "      <th>64</th>\n",
       "      <td>Shakeel Samsudeen</td>\n",
       "      <td>1</td>\n",
       "      <td>January-2018</td>\n",
       "    </tr>\n",
       "    <tr>\n",
       "      <th>65</th>\n",
       "      <td>Adam Štafa</td>\n",
       "      <td>1</td>\n",
       "      <td>January-2018</td>\n",
       "    </tr>\n",
       "    <tr>\n",
       "      <th>66</th>\n",
       "      <td>Naman Sood</td>\n",
       "      <td>1</td>\n",
       "      <td>January-2018</td>\n",
       "    </tr>\n",
       "    <tr>\n",
       "      <th>67</th>\n",
       "      <td>Vidit Jain</td>\n",
       "      <td>1</td>\n",
       "      <td>January-2018</td>\n",
       "    </tr>\n",
       "    <tr>\n",
       "      <th>68</th>\n",
       "      <td>mrMarce</td>\n",
       "      <td>1</td>\n",
       "      <td>January-2018</td>\n",
       "    </tr>\n",
       "    <tr>\n",
       "      <th>69</th>\n",
       "      <td>tina_oberoi</td>\n",
       "      <td>4</td>\n",
       "      <td>February-2018</td>\n",
       "    </tr>\n",
       "    <tr>\n",
       "      <th>70</th>\n",
       "      <td>DESHRAJ</td>\n",
       "      <td>6</td>\n",
       "      <td>March-2018</td>\n",
       "    </tr>\n",
       "    <tr>\n",
       "      <th>71</th>\n",
       "      <td>spyshiv</td>\n",
       "      <td>1</td>\n",
       "      <td>March-2018</td>\n",
       "    </tr>\n",
       "    <tr>\n",
       "      <th>72</th>\n",
       "      <td>Tasha Chin</td>\n",
       "      <td>1</td>\n",
       "      <td>March-2018</td>\n",
       "    </tr>\n",
       "  </tbody>\n",
       "</table>\n",
       "<p>73 rows × 3 columns</p>\n",
       "</div>"
      ],
      "text/plain": [
       "              Author of commit  Number of commits          month\n",
       "0                      Deshraj                 11   October-2016\n",
       "1                Deshraj Yadav                  3   October-2016\n",
       "2                Harsh Agrawal                 12  November-2016\n",
       "3              Taranjeet Singh                 46  November-2016\n",
       "4                   Akash Jain                 13  November-2016\n",
       "5                  rishabhjain                  4  November-2016\n",
       "6                    arun jain                  3  November-2016\n",
       "7             Gautham Santhosh                  1  November-2016\n",
       "8            The Gitter Badger                  1  November-2016\n",
       "9                 Anwesh Nayak                  3  November-2016\n",
       "10                Neeraj Yadav                  1  November-2016\n",
       "11                Sourav Singh                  1  December-2016\n",
       "12              Aditya Agarwal                  2  December-2016\n",
       "13               Ram Ramrakhya                 10   January-2017\n",
       "14            Shiv Baran Singh                  8   January-2017\n",
       "15                   parismita                  9   January-2017\n",
       "16              Rishav Sapahia                  1   January-2017\n",
       "17                    jayantsa                  4   January-2017\n",
       "18                Viraj Prabhu                  1   January-2017\n",
       "19                 Ankit Yadav                  4  February-2017\n",
       "20                   Arun Jain                  5  February-2017\n",
       "21                Ankur Shukla                  1  February-2017\n",
       "22                      Shivam                  2     March-2017\n",
       "23                Anshul Basia                  2     March-2017\n",
       "24                akashjain993                  3     March-2017\n",
       "25              Mayank Agrawal                  2     March-2017\n",
       "26                 AliRaza3997                  1     March-2017\n",
       "27            Barnabas Makonda                  1     March-2017\n",
       "28               Varun Agrawal                  1     March-2017\n",
       "29  Pawan Sasanka Ammanamanchi                  1     March-2017\n",
       "..                         ...                ...            ...\n",
       "43                   geekayush                  2   October-2017\n",
       "44             RishabhJain2018                 14   October-2017\n",
       "45                  dhruvbatra                  2   October-2017\n",
       "46                Tyler Lugger                  1   October-2017\n",
       "47                    jakecarr                  1   October-2017\n",
       "48                  Poh Zi How                  1   October-2017\n",
       "49               Chris Wiggins                  1   October-2017\n",
       "50            Ayush Srivastava                  1  November-2017\n",
       "51                Aditya Singh                  1  November-2017\n",
       "52              Anuyog Rohilla                  1  November-2017\n",
       "53              Will Eggleston                  1  November-2017\n",
       "54               Prajwal Gatti                  1  November-2017\n",
       "55                Hizkia Felix                  1  December-2017\n",
       "56                 iDrinkMocha                  1  December-2017\n",
       "57                Gautam Jajoo                  1  December-2017\n",
       "58               Avikam Mangla                  1  December-2017\n",
       "59                trexdinosaur                  3  December-2017\n",
       "60                    Plebtato                  1  December-2017\n",
       "61                      weakit                  1  December-2017\n",
       "62                   Vivek Raj                  1   January-2018\n",
       "63              praisejabraham                  1   January-2018\n",
       "64           Shakeel Samsudeen                  1   January-2018\n",
       "65                  Adam Štafa                  1   January-2018\n",
       "66                  Naman Sood                  1   January-2018\n",
       "67                  Vidit Jain                  1   January-2018\n",
       "68                     mrMarce                  1   January-2018\n",
       "69                 tina_oberoi                  4  February-2018\n",
       "70                     DESHRAJ                  6     March-2018\n",
       "71                     spyshiv                  1     March-2018\n",
       "72                  Tasha Chin                  1     March-2018\n",
       "\n",
       "[73 rows x 3 columns]"
      ]
     },
     "execution_count": 26,
     "metadata": {},
     "output_type": "execute_result"
    }
   ],
   "source": [
    "final_data"
   ]
  },
  {
   "cell_type": "code",
   "execution_count": 27,
   "metadata": {},
   "outputs": [],
   "source": [
    "no_of_new_commiters_per_month = final_data.groupby('month').count().drop('Number of commits', axis=1)"
   ]
  },
  {
   "cell_type": "code",
   "execution_count": 28,
   "metadata": {},
   "outputs": [],
   "source": [
    "no_of_new_commiters_per_month.rename(columns = {'Author of commit': 'Number of new commiters'},inplace =True)"
   ]
  },
  {
   "cell_type": "code",
   "execution_count": 29,
   "metadata": {},
   "outputs": [
    {
     "data": {
      "text/html": [
       "<div>\n",
       "<table border=\"1\" class=\"dataframe\">\n",
       "  <thead>\n",
       "    <tr style=\"text-align: right;\">\n",
       "      <th></th>\n",
       "      <th>Number of new commiters</th>\n",
       "    </tr>\n",
       "    <tr>\n",
       "      <th>month</th>\n",
       "      <th></th>\n",
       "    </tr>\n",
       "  </thead>\n",
       "  <tbody>\n",
       "    <tr>\n",
       "      <th>April-2017</th>\n",
       "      <td>2</td>\n",
       "    </tr>\n",
       "    <tr>\n",
       "      <th>August-2017</th>\n",
       "      <td>3</td>\n",
       "    </tr>\n",
       "    <tr>\n",
       "      <th>December-2016</th>\n",
       "      <td>2</td>\n",
       "    </tr>\n",
       "    <tr>\n",
       "      <th>December-2017</th>\n",
       "      <td>7</td>\n",
       "    </tr>\n",
       "    <tr>\n",
       "      <th>February-2017</th>\n",
       "      <td>3</td>\n",
       "    </tr>\n",
       "    <tr>\n",
       "      <th>February-2018</th>\n",
       "      <td>1</td>\n",
       "    </tr>\n",
       "    <tr>\n",
       "      <th>January-2017</th>\n",
       "      <td>6</td>\n",
       "    </tr>\n",
       "    <tr>\n",
       "      <th>January-2018</th>\n",
       "      <td>7</td>\n",
       "    </tr>\n",
       "    <tr>\n",
       "      <th>March-2017</th>\n",
       "      <td>8</td>\n",
       "    </tr>\n",
       "    <tr>\n",
       "      <th>March-2018</th>\n",
       "      <td>3</td>\n",
       "    </tr>\n",
       "    <tr>\n",
       "      <th>May-2017</th>\n",
       "      <td>2</td>\n",
       "    </tr>\n",
       "    <tr>\n",
       "      <th>November-2016</th>\n",
       "      <td>9</td>\n",
       "    </tr>\n",
       "    <tr>\n",
       "      <th>November-2017</th>\n",
       "      <td>5</td>\n",
       "    </tr>\n",
       "    <tr>\n",
       "      <th>October-2016</th>\n",
       "      <td>2</td>\n",
       "    </tr>\n",
       "    <tr>\n",
       "      <th>October-2017</th>\n",
       "      <td>8</td>\n",
       "    </tr>\n",
       "    <tr>\n",
       "      <th>September-2017</th>\n",
       "      <td>5</td>\n",
       "    </tr>\n",
       "  </tbody>\n",
       "</table>\n",
       "</div>"
      ],
      "text/plain": [
       "                Number of new commiters\n",
       "month                                  \n",
       "April-2017                            2\n",
       "August-2017                           3\n",
       "December-2016                         2\n",
       "December-2017                         7\n",
       "February-2017                         3\n",
       "February-2018                         1\n",
       "January-2017                          6\n",
       "January-2018                          7\n",
       "March-2017                            8\n",
       "March-2018                            3\n",
       "May-2017                              2\n",
       "November-2016                         9\n",
       "November-2017                         5\n",
       "October-2016                          2\n",
       "October-2017                          8\n",
       "September-2017                        5"
      ]
     },
     "execution_count": 29,
     "metadata": {},
     "output_type": "execute_result"
    }
   ],
   "source": [
    "no_of_new_commiters_per_month"
   ]
  },
  {
   "cell_type": "code",
   "execution_count": 30,
   "metadata": {},
   "outputs": [],
   "source": [
    "final_data.to_csv(enriched_index_name + \".csv\", index=False)"
   ]
  },
  {
   "cell_type": "code",
   "execution_count": 31,
   "metadata": {},
   "outputs": [],
   "source": [
    "no_of_new_commiters_per_month.to_csv(enriched_index_name + \"new commiters per month\" + \".csv\", index=False)"
   ]
  },
  {
   "cell_type": "markdown",
   "metadata": {},
   "source": [
    "PANDAS APPROACH"
   ]
  },
  {
   "cell_type": "code",
   "execution_count": 32,
   "metadata": {},
   "outputs": [],
   "source": [
    "repo_data = pd.DataFrame(results)"
   ]
  },
  {
   "cell_type": "code",
   "execution_count": 33,
   "metadata": {},
   "outputs": [
    {
     "data": {
      "text/html": [
       "<div>\n",
       "<table border=\"1\" class=\"dataframe\">\n",
       "  <thead>\n",
       "    <tr style=\"text-align: right;\">\n",
       "      <th></th>\n",
       "      <th>Author</th>\n",
       "      <th>Committer</th>\n",
       "      <th>author_date</th>\n",
       "      <th>author_domain</th>\n",
       "      <th>author_name</th>\n",
       "      <th>commit_date</th>\n",
       "      <th>committer_domain</th>\n",
       "      <th>committer_name</th>\n",
       "      <th>files</th>\n",
       "      <th>github_repo</th>\n",
       "      <th>...</th>\n",
       "      <th>offset</th>\n",
       "      <th>origin</th>\n",
       "      <th>repo_name</th>\n",
       "      <th>tag</th>\n",
       "      <th>title</th>\n",
       "      <th>tz</th>\n",
       "      <th>url_id</th>\n",
       "      <th>utc_author</th>\n",
       "      <th>utc_commit</th>\n",
       "      <th>uuid</th>\n",
       "    </tr>\n",
       "  </thead>\n",
       "  <tbody>\n",
       "    <tr>\n",
       "      <th>0</th>\n",
       "      <td>Deshraj &lt;deshrajdry@gmail.com&gt;</td>\n",
       "      <td>Deshraj &lt;deshrajdry@gmail.com&gt;</td>\n",
       "      <td>2016-10-20T23:58:12</td>\n",
       "      <td>gmail.com</td>\n",
       "      <td>Deshraj</td>\n",
       "      <td>2016-10-20T23:58:12</td>\n",
       "      <td>gmail.com</td>\n",
       "      <td>Deshraj</td>\n",
       "      <td>2</td>\n",
       "      <td>Cloud-CV/EvalAI</td>\n",
       "      <td>...</td>\n",
       "      <td>None</td>\n",
       "      <td>https://github.com/Cloud-CV/EvalAI.git</td>\n",
       "      <td>https://github.com/Cloud-CV/EvalAI.git</td>\n",
       "      <td>https://github.com/Cloud-CV/EvalAI.git</td>\n",
       "      <td>README and contribution guidelines updated</td>\n",
       "      <td>-4</td>\n",
       "      <td>Cloud-CV/EvalAI/commit/114d7336902e186238ae34e...</td>\n",
       "      <td>2016-10-21T03:58:12</td>\n",
       "      <td>2016-10-21T03:58:12</td>\n",
       "      <td>6fda5d606c80de7d2f05bbc06ce0d3868be4de00</td>\n",
       "    </tr>\n",
       "    <tr>\n",
       "      <th>1</th>\n",
       "      <td>Harsh Agrawal &lt;h.agrawal092@gmail.com&gt;</td>\n",
       "      <td>Harsh Agrawal &lt;h.agrawal092@gmail.com&gt;</td>\n",
       "      <td>2016-11-02T00:09:33</td>\n",
       "      <td>gmail.com</td>\n",
       "      <td>Harsh Agrawal</td>\n",
       "      <td>2016-11-02T00:09:33</td>\n",
       "      <td>gmail.com</td>\n",
       "      <td>Harsh Agrawal</td>\n",
       "      <td>4</td>\n",
       "      <td>Cloud-CV/EvalAI</td>\n",
       "      <td>...</td>\n",
       "      <td>None</td>\n",
       "      <td>https://github.com/Cloud-CV/EvalAI.git</td>\n",
       "      <td>https://github.com/Cloud-CV/EvalAI.git</td>\n",
       "      <td>https://github.com/Cloud-CV/EvalAI.git</td>\n",
       "      <td>Updating configurations for third-party integr...</td>\n",
       "      <td>-5</td>\n",
       "      <td>Cloud-CV/EvalAI/commit/cb6dd7d9cc09032eb5ca12e...</td>\n",
       "      <td>2016-11-02T05:09:33</td>\n",
       "      <td>2016-11-02T05:09:33</td>\n",
       "      <td>fe5b3f52c5e12d30e26883768ba6e1b3f01493f0</td>\n",
       "    </tr>\n",
       "    <tr>\n",
       "      <th>2</th>\n",
       "      <td>Harsh Agrawal &lt;h.agrawal092@gmail.com&gt;</td>\n",
       "      <td>Harsh Agrawal &lt;h.agrawal092@gmail.com&gt;</td>\n",
       "      <td>2016-11-02T00:16:49</td>\n",
       "      <td>gmail.com</td>\n",
       "      <td>Harsh Agrawal</td>\n",
       "      <td>2016-11-02T00:16:49</td>\n",
       "      <td>gmail.com</td>\n",
       "      <td>Harsh Agrawal</td>\n",
       "      <td>4</td>\n",
       "      <td>Cloud-CV/EvalAI</td>\n",
       "      <td>...</td>\n",
       "      <td>None</td>\n",
       "      <td>https://github.com/Cloud-CV/EvalAI.git</td>\n",
       "      <td>https://github.com/Cloud-CV/EvalAI.git</td>\n",
       "      <td>https://github.com/Cloud-CV/EvalAI.git</td>\n",
       "      <td>Adding some testing support</td>\n",
       "      <td>-5</td>\n",
       "      <td>Cloud-CV/EvalAI/commit/1fb6c1c9ea446d7589cfdc5...</td>\n",
       "      <td>2016-11-02T05:16:49</td>\n",
       "      <td>2016-11-02T05:16:49</td>\n",
       "      <td>6755e27cf048db3556eea1f54f3f775ec2ff5c71</td>\n",
       "    </tr>\n",
       "    <tr>\n",
       "      <th>3</th>\n",
       "      <td>Deshraj &lt;deshrajdry@gmail.com&gt;</td>\n",
       "      <td>Deshraj &lt;deshrajdry@gmail.com&gt;</td>\n",
       "      <td>2016-11-03T19:52:18</td>\n",
       "      <td>gmail.com</td>\n",
       "      <td>Deshraj</td>\n",
       "      <td>2016-11-03T19:52:18</td>\n",
       "      <td>gmail.com</td>\n",
       "      <td>Deshraj</td>\n",
       "      <td>1</td>\n",
       "      <td>Cloud-CV/EvalAI</td>\n",
       "      <td>...</td>\n",
       "      <td>None</td>\n",
       "      <td>https://github.com/Cloud-CV/EvalAI.git</td>\n",
       "      <td>https://github.com/Cloud-CV/EvalAI.git</td>\n",
       "      <td>https://github.com/Cloud-CV/EvalAI.git</td>\n",
       "      <td>typo fix</td>\n",
       "      <td>-4</td>\n",
       "      <td>Cloud-CV/EvalAI/commit/e4d5528b471f9b03e529ea6...</td>\n",
       "      <td>2016-11-03T23:52:18</td>\n",
       "      <td>2016-11-03T23:52:18</td>\n",
       "      <td>1f2f7494a8a080fbd5bc34958ee5928e3418fbb0</td>\n",
       "    </tr>\n",
       "    <tr>\n",
       "      <th>4</th>\n",
       "      <td>Deshraj &lt;deshrajdry@gmail.com&gt;</td>\n",
       "      <td>Deshraj &lt;deshrajdry@gmail.com&gt;</td>\n",
       "      <td>2016-11-04T06:46:43</td>\n",
       "      <td>gmail.com</td>\n",
       "      <td>Deshraj</td>\n",
       "      <td>2016-11-04T06:46:43</td>\n",
       "      <td>gmail.com</td>\n",
       "      <td>Deshraj</td>\n",
       "      <td>1</td>\n",
       "      <td>Cloud-CV/EvalAI</td>\n",
       "      <td>...</td>\n",
       "      <td>None</td>\n",
       "      <td>https://github.com/Cloud-CV/EvalAI.git</td>\n",
       "      <td>https://github.com/Cloud-CV/EvalAI.git</td>\n",
       "      <td>https://github.com/Cloud-CV/EvalAI.git</td>\n",
       "      <td>requirements updated for production environment</td>\n",
       "      <td>-4</td>\n",
       "      <td>Cloud-CV/EvalAI/commit/469929c52ad220ecb2d0d19...</td>\n",
       "      <td>2016-11-04T10:46:43</td>\n",
       "      <td>2016-11-04T10:46:43</td>\n",
       "      <td>7260c130fba325a46bc665958cf225bd631b8cd0</td>\n",
       "    </tr>\n",
       "  </tbody>\n",
       "</table>\n",
       "<p>5 rows × 34 columns</p>\n",
       "</div>"
      ],
      "text/plain": [
       "                                   Author  \\\n",
       "0          Deshraj <deshrajdry@gmail.com>   \n",
       "1  Harsh Agrawal <h.agrawal092@gmail.com>   \n",
       "2  Harsh Agrawal <h.agrawal092@gmail.com>   \n",
       "3          Deshraj <deshrajdry@gmail.com>   \n",
       "4          Deshraj <deshrajdry@gmail.com>   \n",
       "\n",
       "                                Committer          author_date author_domain  \\\n",
       "0          Deshraj <deshrajdry@gmail.com>  2016-10-20T23:58:12     gmail.com   \n",
       "1  Harsh Agrawal <h.agrawal092@gmail.com>  2016-11-02T00:09:33     gmail.com   \n",
       "2  Harsh Agrawal <h.agrawal092@gmail.com>  2016-11-02T00:16:49     gmail.com   \n",
       "3          Deshraj <deshrajdry@gmail.com>  2016-11-03T19:52:18     gmail.com   \n",
       "4          Deshraj <deshrajdry@gmail.com>  2016-11-04T06:46:43     gmail.com   \n",
       "\n",
       "     author_name          commit_date committer_domain committer_name  files  \\\n",
       "0        Deshraj  2016-10-20T23:58:12        gmail.com        Deshraj      2   \n",
       "1  Harsh Agrawal  2016-11-02T00:09:33        gmail.com  Harsh Agrawal      4   \n",
       "2  Harsh Agrawal  2016-11-02T00:16:49        gmail.com  Harsh Agrawal      4   \n",
       "3        Deshraj  2016-11-03T19:52:18        gmail.com        Deshraj      1   \n",
       "4        Deshraj  2016-11-04T06:46:43        gmail.com        Deshraj      1   \n",
       "\n",
       "       github_repo                    ...                    offset  \\\n",
       "0  Cloud-CV/EvalAI                    ...                      None   \n",
       "1  Cloud-CV/EvalAI                    ...                      None   \n",
       "2  Cloud-CV/EvalAI                    ...                      None   \n",
       "3  Cloud-CV/EvalAI                    ...                      None   \n",
       "4  Cloud-CV/EvalAI                    ...                      None   \n",
       "\n",
       "                                   origin  \\\n",
       "0  https://github.com/Cloud-CV/EvalAI.git   \n",
       "1  https://github.com/Cloud-CV/EvalAI.git   \n",
       "2  https://github.com/Cloud-CV/EvalAI.git   \n",
       "3  https://github.com/Cloud-CV/EvalAI.git   \n",
       "4  https://github.com/Cloud-CV/EvalAI.git   \n",
       "\n",
       "                                repo_name  \\\n",
       "0  https://github.com/Cloud-CV/EvalAI.git   \n",
       "1  https://github.com/Cloud-CV/EvalAI.git   \n",
       "2  https://github.com/Cloud-CV/EvalAI.git   \n",
       "3  https://github.com/Cloud-CV/EvalAI.git   \n",
       "4  https://github.com/Cloud-CV/EvalAI.git   \n",
       "\n",
       "                                      tag  \\\n",
       "0  https://github.com/Cloud-CV/EvalAI.git   \n",
       "1  https://github.com/Cloud-CV/EvalAI.git   \n",
       "2  https://github.com/Cloud-CV/EvalAI.git   \n",
       "3  https://github.com/Cloud-CV/EvalAI.git   \n",
       "4  https://github.com/Cloud-CV/EvalAI.git   \n",
       "\n",
       "                                               title  tz  \\\n",
       "0         README and contribution guidelines updated  -4   \n",
       "1  Updating configurations for third-party integr...  -5   \n",
       "2                        Adding some testing support  -5   \n",
       "3                                           typo fix  -4   \n",
       "4    requirements updated for production environment  -4   \n",
       "\n",
       "                                              url_id           utc_author  \\\n",
       "0  Cloud-CV/EvalAI/commit/114d7336902e186238ae34e...  2016-10-21T03:58:12   \n",
       "1  Cloud-CV/EvalAI/commit/cb6dd7d9cc09032eb5ca12e...  2016-11-02T05:09:33   \n",
       "2  Cloud-CV/EvalAI/commit/1fb6c1c9ea446d7589cfdc5...  2016-11-02T05:16:49   \n",
       "3  Cloud-CV/EvalAI/commit/e4d5528b471f9b03e529ea6...  2016-11-03T23:52:18   \n",
       "4  Cloud-CV/EvalAI/commit/469929c52ad220ecb2d0d19...  2016-11-04T10:46:43   \n",
       "\n",
       "            utc_commit                                      uuid  \n",
       "0  2016-10-21T03:58:12  6fda5d606c80de7d2f05bbc06ce0d3868be4de00  \n",
       "1  2016-11-02T05:09:33  fe5b3f52c5e12d30e26883768ba6e1b3f01493f0  \n",
       "2  2016-11-02T05:16:49  6755e27cf048db3556eea1f54f3f775ec2ff5c71  \n",
       "3  2016-11-03T23:52:18  1f2f7494a8a080fbd5bc34958ee5928e3418fbb0  \n",
       "4  2016-11-04T10:46:43  7260c130fba325a46bc665958cf225bd631b8cd0  \n",
       "\n",
       "[5 rows x 34 columns]"
      ]
     },
     "execution_count": 33,
     "metadata": {},
     "output_type": "execute_result"
    }
   ],
   "source": [
    "repo_data.head()"
   ]
  },
  {
   "cell_type": "code",
   "execution_count": 34,
   "metadata": {},
   "outputs": [],
   "source": [
    "repo_data.drop(repo_data.columns.difference(['commit_date','committer_name']), axis=1, inplace = True)"
   ]
  },
  {
   "cell_type": "code",
   "execution_count": 35,
   "metadata": {},
   "outputs": [
    {
     "data": {
      "text/plain": [
       "commit_date       object\n",
       "committer_name    object\n",
       "dtype: object"
      ]
     },
     "execution_count": 35,
     "metadata": {},
     "output_type": "execute_result"
    }
   ],
   "source": [
    "repo_data.dtypes"
   ]
  },
  {
   "cell_type": "code",
   "execution_count": 36,
   "metadata": {},
   "outputs": [],
   "source": [
    "repo_data.commit_date = pd.to_datetime(repo_data.commit_date)"
   ]
  },
  {
   "cell_type": "code",
   "execution_count": 37,
   "metadata": {},
   "outputs": [
    {
     "data": {
      "text/plain": [
       "commit_date       datetime64[ns]\n",
       "committer_name            object\n",
       "dtype: object"
      ]
     },
     "execution_count": 37,
     "metadata": {},
     "output_type": "execute_result"
    }
   ],
   "source": [
    "repo_data.dtypes"
   ]
  },
  {
   "cell_type": "code",
   "execution_count": 38,
   "metadata": {},
   "outputs": [],
   "source": [
    "repo_data.set_index('commit_date', inplace=True)"
   ]
  },
  {
   "cell_type": "code",
   "execution_count": 39,
   "metadata": {},
   "outputs": [],
   "source": [
    "group=repo_data.groupby(pd.TimeGrouper(\"M\"))"
   ]
  },
  {
   "cell_type": "code",
   "execution_count": 40,
   "metadata": {},
   "outputs": [
    {
     "data": {
      "text/plain": [
       "(Timestamp('2016-10-31 00:00:00', offset='M'),\n",
       "                     committer_name\n",
       " commit_date                       \n",
       " 2016-10-20 20:10:50         GitHub\n",
       " 2016-10-20 20:51:45  Deshraj Yadav\n",
       " 2016-10-20 20:52:29        Deshraj\n",
       " 2016-10-20 22:25:05        Deshraj\n",
       " 2016-10-20 22:25:41        Deshraj\n",
       " 2016-10-20 22:28:35        Deshraj\n",
       " 2016-10-20 22:40:28        Deshraj\n",
       " 2016-10-20 23:03:52        Deshraj\n",
       " 2016-10-20 23:58:12        Deshraj\n",
       " 2016-10-21 06:46:36        Deshraj\n",
       " 2016-10-21 07:19:51        Deshraj\n",
       " 2016-10-21 07:37:35        Deshraj\n",
       " 2016-10-21 08:40:31         GitHub\n",
       " 2016-10-21 09:19:11        Deshraj)"
      ]
     },
     "execution_count": 40,
     "metadata": {},
     "output_type": "execute_result"
    }
   ],
   "source": [
    "list(group)[0]"
   ]
  },
  {
   "cell_type": "code",
   "execution_count": 41,
   "metadata": {},
   "outputs": [
    {
     "data": {
      "text/plain": [
       "commit_date  committer_name  \n",
       "2016-10-31   Deshraj             11\n",
       "             GitHub               2\n",
       "             Deshraj Yadav        1\n",
       "2016-11-30   Deshraj Yadav       74\n",
       "             GitHub              29\n",
       "             Deshraj             20\n",
       "             Harsh Agrawal       17\n",
       "2016-12-31   Deshraj Yadav       54\n",
       "             GitHub              18\n",
       "2017-01-31   Deshraj Yadav       86\n",
       "             GitHub              60\n",
       "             Akash Jain          16\n",
       "             Taranjeet Singh      4\n",
       "             Shiv Baran Singh     1\n",
       "2017-02-28   Deshraj Yadav       28\n",
       "             GitHub              23\n",
       "             Akash Jain          16\n",
       "             Shiv Baran Singh     5\n",
       "2017-03-31   GitHub              23\n",
       "             Akash Jain          18\n",
       "             Deshraj Yadav       17\n",
       "             Shiv Baran Singh     8\n",
       "             Taranjeet Singh      6\n",
       "             Deshraj              4\n",
       "             akashjain993         3\n",
       "2017-04-30   GitHub              47\n",
       "             Deshraj Yadav       12\n",
       "             Shiv Baran Singh     1\n",
       "2017-05-31   Deshraj Yadav        7\n",
       "             GitHub               5\n",
       "                                 ..\n",
       "2017-09-30   GitHub              11\n",
       "             Shiv Baran Singh     1\n",
       "2017-10-31   Deshraj Yadav       21\n",
       "             RishabhJain2018     14\n",
       "             GitHub               4\n",
       "             geekayush            2\n",
       "             xamfy                1\n",
       "2017-11-30   Deshraj Yadav        8\n",
       "             Deshraj              7\n",
       "             GitHub               5\n",
       "             Akash Jain           2\n",
       "             RishabhJain2018      1\n",
       "2017-12-31   Deshraj Yadav        8\n",
       "             Akash Jain           3\n",
       "             GitHub               1\n",
       "2018-01-31   Akash Jain           6\n",
       "             Deshraj Yadav        6\n",
       "             GitHub               4\n",
       "             rishabhjain          2\n",
       "             Shiv Baran Singh     1\n",
       "2018-02-28   Deshraj Yadav        7\n",
       "             GitHub               6\n",
       "             Shiv Baran Singh     4\n",
       "             rishabhjain          4\n",
       "             Akash Jain           2\n",
       "2018-03-31   Deshraj Yadav       18\n",
       "             GitHub              12\n",
       "             DESHRAJ              6\n",
       "             RishabhJain2018      2\n",
       "             spyshiv              1\n",
       "Name: committer_name, dtype: int64"
      ]
     },
     "execution_count": 41,
     "metadata": {},
     "output_type": "execute_result"
    }
   ],
   "source": [
    "group.committer_name.value_counts()"
   ]
  },
  {
   "cell_type": "code",
   "execution_count": 42,
   "metadata": {},
   "outputs": [
    {
     "data": {
      "text/plain": [
       "commit_date\n",
       "2016-10-31    3\n",
       "2016-11-30    4\n",
       "2016-12-31    2\n",
       "2017-01-31    5\n",
       "2017-02-28    4\n",
       "2017-03-31    7\n",
       "2017-04-30    3\n",
       "2017-05-31    4\n",
       "2017-06-30    3\n",
       "2017-07-31    2\n",
       "2017-08-31    3\n",
       "2017-09-30    3\n",
       "2017-10-31    5\n",
       "2017-11-30    5\n",
       "2017-12-31    3\n",
       "2018-01-31    5\n",
       "2018-02-28    5\n",
       "2018-03-31    5\n",
       "Freq: M, Name: committer_name, dtype: int64"
      ]
     },
     "execution_count": 42,
     "metadata": {},
     "output_type": "execute_result"
    }
   ],
   "source": [
    "group.committer_name.nunique()"
   ]
  },
  {
   "cell_type": "code",
   "execution_count": 71,
   "metadata": {},
   "outputs": [],
   "source": [
    "committer_data=pd.DataFrame({'month':group.committer_name.nunique().index, 'new committers per month':group.committer_name.nunique().values})"
   ]
  },
  {
   "cell_type": "code",
   "execution_count": 43,
   "metadata": {},
   "outputs": [],
   "source": [
    "commiters_group=repo_data.groupby('committer_name')"
   ]
  },
  {
   "cell_type": "code",
   "execution_count": 44,
   "metadata": {},
   "outputs": [],
   "source": [
    "commit_count=commiters_group.committer_name.count()"
   ]
  },
  {
   "cell_type": "code",
   "execution_count": 45,
   "metadata": {},
   "outputs": [
    {
     "data": {
      "text/plain": [
       "committer_name\n",
       "Akash Jain           65\n",
       "DESHRAJ               6\n",
       "Deshraj              42\n",
       "Deshraj Yadav       434\n",
       "GitHub              265\n",
       "Harsh Agrawal        17\n",
       "RishabhJain2018      17\n",
       "Shiv Baran Singh     21\n",
       "Taranjeet Singh      30\n",
       "akashjain993          3\n",
       "geekayush             2\n",
       "rishabhjain           6\n",
       "spyshiv               1\n",
       "xamfy                 1\n",
       "Name: committer_name, dtype: int64"
      ]
     },
     "execution_count": 45,
     "metadata": {},
     "output_type": "execute_result"
    }
   ],
   "source": [
    "commit_count"
   ]
  },
  {
   "cell_type": "code",
   "execution_count": 46,
   "metadata": {},
   "outputs": [
    {
     "data": {
      "text/plain": [
       "910"
      ]
     },
     "execution_count": 46,
     "metadata": {},
     "output_type": "execute_result"
    }
   ],
   "source": [
    "commiters_group.committer_name.count().sum()"
   ]
  },
  {
   "cell_type": "code",
   "execution_count": 47,
   "metadata": {},
   "outputs": [],
   "source": [
    "df=pd.DataFrame({'committer name':commit_count.index, 'commit count':commit_count.values})"
   ]
  },
  {
   "cell_type": "code",
   "execution_count": 48,
   "metadata": {},
   "outputs": [],
   "source": [
    "import matplotlib.pyplot as plt\n",
    "import seaborn as sns\n",
    "%matplotlib inline"
   ]
  },
  {
   "cell_type": "code",
   "execution_count": 49,
   "metadata": {},
   "outputs": [
    {
     "data": {
      "image/png": "[encoded data removed]",
      "text/plain": [
       "<matplotlib.figure.Figure at 0x7f1e97d88d68>"
      ]
     },
     "metadata": {},
     "output_type": "display_data"
    }
   ],
   "source": [
    "graph=sns.barplot(x=\"committer name\", y=\"commit count\", data=df)\n",
    "for item in graph.get_xticklabels():\n",
    "    item.set_rotation(90)"
   ]
  },
  {
   "cell_type": "code",
   "execution_count": 52,
   "metadata": {},
   "outputs": [],
   "source": [
    "import numpy as np"
   ]
  },
  {
   "cell_type": "code",
   "execution_count": 67,
   "metadata": {},
   "outputs": [],
   "source": [
    "def render_mpl_table(data, col_width=10.0, row_height=0.625, font_size=10,\n",
    "                     header_color='#40466e', row_colors=['#f1f1f2', 'w'], edge_color='w',\n",
    "                     bbox=[0, 0, 1, 1], header_columns=0,\n",
    "                     ax=None, **kwargs):\n",
    "    if ax is None:\n",
    "        size = (np.array(data.shape[::-1]) + np.array([0, 1])) * np.array([col_width, row_height])\n",
    "        fig, ax = plt.subplots(figsize=size)\n",
    "        ax.axis('off')\n",
    "\n",
    "    mpl_table = ax.table(cellText=data.values, bbox=bbox, colLabels=data.columns, **kwargs)\n",
    "\n",
    "    mpl_table.auto_set_font_size(False)\n",
    "    mpl_table.set_fontsize(font_size)\n",
    "\n",
    "    for k, cell in  six.iteritems(mpl_table._cells):\n",
    "        cell.set_edgecolor(edge_color)\n",
    "        if k[0] == 0 or k[1] < header_columns:\n",
    "            cell.set_text_props(weight='bold', color='w')\n",
    "            cell.set_facecolor(header_color)\n",
    "        else:\n",
    "            cell.set_facecolor(row_colors[k[0]%len(row_colors) ])\n",
    "    return fig"
   ]
  },
  {
   "cell_type": "code",
   "execution_count": 70,
   "metadata": {},
   "outputs": [
    {
     "data": {
      "image/png": "[encoded data removed]",
      "text/plain": [
       "<matplotlib.figure.Figure at 0x7f1e95229208>"
      ]
     },
     "metadata": {},
     "output_type": "display_data"
    }
   ],
   "source": [
    "fig=render_mpl_table(df, header_columns=0, col_width=2.0)\n",
    "fig.savefig('number of commits')"
   ]
  },
  {
   "cell_type": "code",
   "execution_count": 74,
   "metadata": {},
   "outputs": [
    {
     "data": {
      "image/png": "[encoded data removed]",
      "text/plain": [
       "<matplotlib.figure.Figure at 0x7f1e948909b0>"
      ]
     },
     "metadata": {},
     "output_type": "display_data"
    }
   ],
   "source": [
    "fig=render_mpl_table(committer_data, header_columns=0, col_width=4.0)\n",
    "fig.savefig('new commiters per month')"
   ]
  }
 ],
 "metadata": {
  "kernelspec": {
   "display_name": "grimoirelab",
   "language": "python",
   "name": "grimoirelab"
  },
  "language_info": {
   "codemirror_mode": {
    "name": "ipython",
    "version": 3
   },
   "file_extension": ".py",
   "mimetype": "text/x-python",
   "name": "python",
   "nbconvert_exporter": "python",
   "pygments_lexer": "ipython3",
   "version": "3.6.3"
  }
 },
 "nbformat": 4,
 "nbformat_minor": 2
}
